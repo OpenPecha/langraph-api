{
 "cells": [
  {
   "cell_type": "markdown",
   "id": "a77072c8",
   "metadata": {},
   "source": [
    "import requests\n",
    "\n",
    "response = requests.post(\"http://localhost:8000/translate/single\", json={\n",
    "    \"text\": \"OM MANI PADME HUM\",\n",
    "    \"target_language\": \"English\",\n",
    "    \"model_name\": \"claude\",\n",
    "    \"text_type\": \"mantra\"\n",
    "})\n",
    "\n",
    "result = response.json()\n",
    "print(result[\"results\"][0][\"translated_text\"])"
   ]
  },
  {
   "cell_type": "markdown",
   "id": "711ad06d",
   "metadata": {},
   "source": [
    "import requests\n",
    "\n",
    "response = requests.post(\"http://localhost:8000/translate/single\", json={\n",
    "    \"text\": \"OM MANI PADME HUM\",\n",
    "    \"target_language\": \"English\",\n",
    "    \"model_name\": \"claude\",\n",
    "    \"text_type\": \"mantra\"\n",
    "})\n",
    "\n",
    "result = response.json()\n",
    "print(result[\"results\"][0][\"translated_text\"])"
   ]
  },
  {
   "cell_type": "code",
   "execution_count": 9,
   "id": "f1e02081",
   "metadata": {},
   "outputs": [],
   "source": [
    "import requests\n",
    "\n",
    "response = requests.post(\"http://localhost:8001/translate/single\", json={\n",
    "    \"text\": \"བཅོམ་ལྡན་འདས་མ་ཤེས་རབ་ཀྱི་ཕ་རོལ་ཏུ་ཕྱིན་པའི་སྙིང་པོ།q \\n\\nཨོཾ་ནམོ་བྷ་ག་ཝ་ཏི་ཤེ་ས་རབ་ཀྱི་ཕ་རོལ་ཏུ་ཕྱིན་པ་ཡེ། \",\n",
    "    \"target_language\": \"English\",\n",
    "    \"model_name\": \"claude\",\n",
    "    \"text_type\": \"mantra\"\n",
    "})\n",
    "\n",
    "result = response.json()"
   ]
  },
  {
   "cell_type": "code",
   "execution_count": null,
   "id": "1f00381c",
   "metadata": {},
   "outputs": [
    {
     "data": {
      "text/plain": [
       "{'success': True,\n",
       " 'results': [{'original_text': 'བཅོམ་ལྡན་འདས་མ་ཤེས་རབ་ཀྱི་ཕ་རོལ་ཏུ་ཕྱིན་པའི་སྙིང་པོ།q \\n\\nཨོཾ་ནམོ་བྷ་ག་ཝ་ཏི་ཤེ་ས་རབ་ཀྱི་ཕ་རོལ་ཏུ་ཕྱིན་པ་ཡེ། ',\n",
       "   'translated_text': 'The Heart of the Blessed Mother Transcendent Perfection of Wisdom OṂ NAMO BHAGAVATI PRAJÑĀPĀRAMITĀYE',\n",
       "   'confidence_score': None,\n",
       "   'metadata': {'batch_id': '5227a9e5-0eae-49cb-b2f4-f8f4522882c5',\n",
       "    'model_used': 'claude',\n",
       "    'text_type': 'mantra'}}],\n",
       " 'metadata': {'initialized_at': '2025-07-31T11:38:24.315116',\n",
       "  'total_batches': 1,\n",
       "  'completed_at': '2025-07-31T11:38:26.127006',\n",
       "  'total_processing_time': 1.811885118484497,\n",
       "  'successful_batches': 1,\n",
       "  'failed_batches': 0,\n",
       "  'total_translations': 1,\n",
       "  'success_rate': 1.0},\n",
       " 'errors': []}"
      ]
     },
     "execution_count": 10,
     "metadata": {},
     "output_type": "execute_result"
    },
    {
     "ename": "",
     "evalue": "",
     "output_type": "error",
     "traceback": [
      "\u001b[1;31mThe Kernel crashed while executing code in the current cell or a previous cell. \n",
      "\u001b[1;31mPlease review the code in the cell(s) to identify a possible cause of the failure. \n",
      "\u001b[1;31mClick <a href='https://aka.ms/vscodeJupyterKernelCrash'>here</a> for more info. \n",
      "\u001b[1;31mView Jupyter <a href='command:jupyter.viewOutput'>log</a> for further details."
     ]
    }
   ],
   "source": [
    "result "
   ]
  },
  {
   "cell_type": "code",
   "execution_count": null,
   "id": "ac9304bf",
   "metadata": {},
   "outputs": [],
   "source": []
  }
 ],
 "metadata": {
  "kernelspec": {
   "display_name": "Python 3",
   "language": "python",
   "name": "python3"
  },
  "language_info": {
   "codemirror_mode": {
    "name": "ipython",
    "version": 3
   },
   "file_extension": ".py",
   "mimetype": "text/x-python",
   "name": "python",
   "nbconvert_exporter": "python",
   "pygments_lexer": "ipython3",
   "version": "3.13.5"
  }
 },
 "nbformat": 4,
 "nbformat_minor": 5
}
